{
 "cells": [
  {
   "cell_type": "markdown",
   "id": "615141d4-7f0a-439f-b990-ab3f07cc8faa",
   "metadata": {},
   "source": [
    "# *Uploading the dataset to AWS cloud base by creating S3 Bucket*"
   ]
  },
  {
   "cell_type": "code",
   "execution_count": 2,
   "id": "179fa8c5-b338-4f18-a321-057c11dbe771",
   "metadata": {},
   "outputs": [
    {
     "name": "stdout",
     "output_type": "stream",
     "text": [
      "Defaulting to user installation because normal site-packages is not writeable\n",
      "Requirement already satisfied: boto3 in c:\\users\\user\\appdata\\roaming\\python\\python312\\site-packages (1.37.4)\n",
      "Requirement already satisfied: botocore<1.38.0,>=1.37.4 in c:\\users\\user\\appdata\\roaming\\python\\python312\\site-packages (from boto3) (1.37.4)\n",
      "Requirement already satisfied: jmespath<2.0.0,>=0.7.1 in c:\\programdata\\anaconda3\\lib\\site-packages (from boto3) (1.0.1)\n",
      "Requirement already satisfied: s3transfer<0.12.0,>=0.11.0 in c:\\users\\user\\appdata\\roaming\\python\\python312\\site-packages (from boto3) (0.11.3)\n",
      "Requirement already satisfied: python-dateutil<3.0.0,>=2.1 in c:\\programdata\\anaconda3\\lib\\site-packages (from botocore<1.38.0,>=1.37.4->boto3) (2.9.0.post0)\n",
      "Requirement already satisfied: urllib3!=2.2.0,<3,>=1.25.4 in c:\\programdata\\anaconda3\\lib\\site-packages (from botocore<1.38.0,>=1.37.4->boto3) (2.2.3)\n",
      "Requirement already satisfied: six>=1.5 in c:\\programdata\\anaconda3\\lib\\site-packages (from python-dateutil<3.0.0,>=2.1->botocore<1.38.0,>=1.37.4->boto3) (1.16.0)\n"
     ]
    }
   ],
   "source": [
    "!pip install boto3"
   ]
  },
  {
   "cell_type": "code",
   "execution_count": 11,
   "id": "6a3e8935-0e75-440c-b294-f67c736476b0",
   "metadata": {},
   "outputs": [],
   "source": [
    "import boto3\n",
    "\n",
    "s3 = boto3.client(\n",
    "    's3',\n",
    "    aws_access_key_id='',\n",
    "    aws_secret_access_key='',\n",
    "    region_name='eu-north-1'\n",
    ")\n",
    "# Define bucket name and file details\n",
    "bucket_name = \"pds-bucket-aarabi-new\"  # The bucket name\n",
    "file_name = \"kc_house_data.csv\"  # The dataset\n",
    "s3_key = file_name  # Path in S3\n",
    "\n",
    "# Upload the file\n",
    "s3.upload_file(file_name, bucket_name, s3_key)"
   ]
  },
  {
   "cell_type": "code",
   "execution_count": null,
   "id": "5ace6a4a-6de5-41a1-be61-089b020e31c6",
   "metadata": {},
   "outputs": [],
   "source": []
  }
 ],
 "metadata": {
  "kernelspec": {
   "display_name": "Python 3 (ipykernel)",
   "language": "python",
   "name": "python3"
  },
  "language_info": {
   "codemirror_mode": {
    "name": "ipython",
    "version": 3
   },
   "file_extension": ".py",
   "mimetype": "text/x-python",
   "name": "python",
   "nbconvert_exporter": "python",
   "pygments_lexer": "ipython3",
   "version": "3.12.7"
  }
 },
 "nbformat": 4,
 "nbformat_minor": 5
}
